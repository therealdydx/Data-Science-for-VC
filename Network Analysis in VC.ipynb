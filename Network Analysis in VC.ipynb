{
 "cells": [
  {
   "cell_type": "markdown",
   "metadata": {},
   "source": [
    "# Network Analysis - Venture Capital\n",
    "\n",
    "Script based off https://towardsdatascience.com/data-science-in-venture-capital-8c13ec0c8458"
   ]
  },
  {
   "cell_type": "markdown",
   "metadata": {},
   "source": [
    "### The Data\n",
    "\n",
    "- Data comes from Crunchbase\n",
    "- Focused on Singaporean funds and startups"
   ]
  },
  {
   "cell_type": "markdown",
   "metadata": {},
   "source": [
    "### Data Cleaning"
   ]
  },
  {
   "cell_type": "code",
   "execution_count": 2,
   "metadata": {},
   "outputs": [],
   "source": [
    "# First, import all of the necessary libraries\n",
    "\n",
    "import matplotlib.pyplot as plt # used for creating \n",
    "\n",
    "import networkx as nx # used for analysing the structure of networks\n",
    "\n",
    "import pandas as pd # used for data manipulation and analysis\n",
    "\n",
    "import numpy as np # used for creating n-dimensional arrays\n",
    "\n",
    "from itertools import combinations # for creating combinations (nCr)"
   ]
  },
  {
   "cell_type": "markdown",
   "metadata": {},
   "source": [
    "### Importing Data\n",
    "\n",
    "We will now read two datasets.\n",
    "\n",
    "- df_investors includes the name of all VC funds headquartered in Singapore with at least 1 investment\n",
    "- In the case of VC funds, we include the few categories:VC, CVCs, Micro VCs, Family Offices and Venture Debt\n",
    "- df_startups  includes the name of all Singaporean startups with a total funding amount higher than SGD 500k, as well as the name of their investors\n",
    "- Here, we are limited as Crunchbase only allows for Top 5 Investors in a startup. Never mind, we make do with the limitations."
   ]
  },
  {
   "cell_type": "code",
   "execution_count": 3,
   "metadata": {},
   "outputs": [
    {
     "name": "stdout",
     "output_type": "stream",
     "text": [
      "302\n",
      "971\n"
     ]
    }
   ],
   "source": [
    "# Investors Dataset\n",
    "\n",
    "# read the csv file of investors\n",
    "df_investors = pd.read_csv(\"investors.csv\")\n",
    "print(len(df_investors)) # get a sense how many investors there are\n",
    "\n",
    "# Startups Dataset\n",
    "df_startups = pd.read_csv(\"companies.csv\")\n",
    "print(len(df_startups)) # get a sense how many startups there are"
   ]
  },
  {
   "cell_type": "markdown",
   "metadata": {},
   "source": [
    "### Basic Data Exploration"
   ]
  },
  {
   "cell_type": "code",
   "execution_count": 4,
   "metadata": {},
   "outputs": [
    {
     "data": {
      "text/html": [
       "<div>\n",
       "<style scoped>\n",
       "    .dataframe tbody tr th:only-of-type {\n",
       "        vertical-align: middle;\n",
       "    }\n",
       "\n",
       "    .dataframe tbody tr th {\n",
       "        vertical-align: top;\n",
       "    }\n",
       "\n",
       "    .dataframe thead th {\n",
       "        text-align: right;\n",
       "    }\n",
       "</style>\n",
       "<table border=\"1\" class=\"dataframe\">\n",
       "  <thead>\n",
       "    <tr style=\"text-align: right;\">\n",
       "      <th></th>\n",
       "      <th>Investors</th>\n",
       "      <th>Location</th>\n",
       "    </tr>\n",
       "  </thead>\n",
       "  <tbody>\n",
       "    <tr>\n",
       "      <th>0</th>\n",
       "      <td>Wavemaker Partners</td>\n",
       "      <td>Singapore, Central Region, Singapore</td>\n",
       "    </tr>\n",
       "    <tr>\n",
       "      <th>1</th>\n",
       "      <td>Antler</td>\n",
       "      <td>Singapore, Central Region, Singapore</td>\n",
       "    </tr>\n",
       "    <tr>\n",
       "      <th>2</th>\n",
       "      <td>BEENEXT</td>\n",
       "      <td>Singapore, Central Region, Singapore</td>\n",
       "    </tr>\n",
       "    <tr>\n",
       "      <th>3</th>\n",
       "      <td>JAFCO Asia</td>\n",
       "      <td>Singapore, Central Region, Singapore</td>\n",
       "    </tr>\n",
       "    <tr>\n",
       "      <th>4</th>\n",
       "      <td>EDBI</td>\n",
       "      <td>Singapore, Central Region, Singapore</td>\n",
       "    </tr>\n",
       "  </tbody>\n",
       "</table>\n",
       "</div>"
      ],
      "text/plain": [
       "            Investors                              Location\n",
       "0  Wavemaker Partners  Singapore, Central Region, Singapore\n",
       "1              Antler  Singapore, Central Region, Singapore\n",
       "2             BEENEXT  Singapore, Central Region, Singapore\n",
       "3          JAFCO Asia  Singapore, Central Region, Singapore\n",
       "4                EDBI  Singapore, Central Region, Singapore"
      ]
     },
     "execution_count": 4,
     "metadata": {},
     "output_type": "execute_result"
    }
   ],
   "source": [
    "# slicing the investors database so that we only get location and the name\n",
    "df_investors = df_investors.iloc[:, [0,2]]\n",
    "\n",
    "# now rename the column header to something a bit more palatable\n",
    "df_investors = df_investors.rename(columns={\"Organization/Person Name\" : \"Investors\"})\n",
    "\n",
    "df_investors.head()"
   ]
  },
  {
   "cell_type": "code",
   "execution_count": 5,
   "metadata": {},
   "outputs": [
    {
     "data": {
      "text/html": [
       "<div>\n",
       "<style scoped>\n",
       "    .dataframe tbody tr th:only-of-type {\n",
       "        vertical-align: middle;\n",
       "    }\n",
       "\n",
       "    .dataframe tbody tr th {\n",
       "        vertical-align: top;\n",
       "    }\n",
       "\n",
       "    .dataframe thead th {\n",
       "        text-align: right;\n",
       "    }\n",
       "</style>\n",
       "<table border=\"1\" class=\"dataframe\">\n",
       "  <thead>\n",
       "    <tr style=\"text-align: right;\">\n",
       "      <th></th>\n",
       "      <th>Organization</th>\n",
       "      <th>Investors</th>\n",
       "    </tr>\n",
       "  </thead>\n",
       "  <tbody>\n",
       "    <tr>\n",
       "      <th>0</th>\n",
       "      <td>Sea</td>\n",
       "      <td>Tencent Holdings, General Atlantic, Hillhouse ...</td>\n",
       "    </tr>\n",
       "    <tr>\n",
       "      <th>1</th>\n",
       "      <td>Funding Societies</td>\n",
       "      <td>Sequoia Capital India, Line Corporation, Alpha...</td>\n",
       "    </tr>\n",
       "    <tr>\n",
       "      <th>2</th>\n",
       "      <td>Carousell</td>\n",
       "      <td>Naver, Sequoia Capital India, 500 Startups, Ra...</td>\n",
       "    </tr>\n",
       "    <tr>\n",
       "      <th>3</th>\n",
       "      <td>LongHash Ventures</td>\n",
       "      <td>HashKey Capital, Fenbushi Capital</td>\n",
       "    </tr>\n",
       "    <tr>\n",
       "      <th>4</th>\n",
       "      <td>Grab Financial Group</td>\n",
       "      <td>GGV Capital, Flourish Ventures, Arbor Ventures...</td>\n",
       "    </tr>\n",
       "  </tbody>\n",
       "</table>\n",
       "</div>"
      ],
      "text/plain": [
       "           Organization                                          Investors\n",
       "0                   Sea  Tencent Holdings, General Atlantic, Hillhouse ...\n",
       "1     Funding Societies  Sequoia Capital India, Line Corporation, Alpha...\n",
       "2             Carousell  Naver, Sequoia Capital India, 500 Startups, Ra...\n",
       "3     LongHash Ventures                  HashKey Capital, Fenbushi Capital\n",
       "4  Grab Financial Group  GGV Capital, Flourish Ventures, Arbor Ventures..."
      ]
     },
     "execution_count": 5,
     "metadata": {},
     "output_type": "execute_result"
    }
   ],
   "source": [
    "# we slice the startups database so we only get the relevant columns\n",
    "df_startups = df_startups.iloc[:, [0, 19]]\n",
    "\n",
    "# let's rename the column header to something a bit more palatable\n",
    "df_startups = df_startups.rename(columns = {\"Top 5 Investors\" : \"Investors\", \"Organization Name\" : \"Organization\"})\n",
    "\n",
    "df_startups.head()"
   ]
  },
  {
   "cell_type": "markdown",
   "metadata": {},
   "source": [
    "### Data Cleaning"
   ]
  },
  {
   "cell_type": "markdown",
   "metadata": {},
   "source": [
    "Because the column \"Investors\" in the df_startups dataset includes all investors that invest in the startups, i.e. a Singaporean startup may have Japanese investors, we want to filter this so that the df_startups dataset only has Singaporean VCs"
   ]
  },
  {
   "cell_type": "code",
   "execution_count": 32,
   "metadata": {
    "scrolled": true
   },
   "outputs": [
    {
     "ename": "SyntaxError",
     "evalue": "unexpected EOF while parsing (<ipython-input-32-4636243d5e4a>, line 11)",
     "output_type": "error",
     "traceback": [
      "\u001b[1;36m  File \u001b[1;32m\"<ipython-input-32-4636243d5e4a>\"\u001b[1;36m, line \u001b[1;32m11\u001b[0m\n\u001b[1;33m    \u001b[0m\n\u001b[1;37m    ^\u001b[0m\n\u001b[1;31mSyntaxError\u001b[0m\u001b[1;31m:\u001b[0m unexpected EOF while parsing\n"
     ]
    }
   ],
   "source": [
    "# extract the investor column from the df_startups, and convert the series into a list\n",
    "# afterwards, the index for the new dataframe is based off the startups\n",
    "# stack by column instead of row, and then reset index to create a new index column\n",
    "\n",
    "# create dictionary of investors\n",
    "sg_startups = pd.DataFrame(df_startups['Investors'])\n",
    "\n",
    "sg_investors = df_investors['Investors'].tolist()\n",
    "\n",
    "for row in sg_startups['Investors']:\n",
    "    \n"
   ]
  },
  {
   "cell_type": "code",
   "execution_count": null,
   "metadata": {},
   "outputs": [],
   "source": [
    "# basically now there are two columns with an index column, so afterwards just rename the columns\n",
    "df_startups.rename({0: 'Investors'}, axis = 1, inplace = True)\n",
    "df_startups['Investors'] = df_startups[\"Investors\"].str.lstrip()\n",
    "\n",
    "# merging the datasets to get the singaporean investors\n",
    "df = pd.merge(df_startups, df_investors, how = \"outer\")\n",
    "\n",
    "# drops NA values, drops location after subsetting dataframe to only singaporean investors, and resets index\n",
    "df = df[df[\"Location\"] == \"Singapore\"].dropna().drop([\"Location\"], axis = 1).reset_index(drop = True)"
   ]
  },
  {
   "cell_type": "markdown",
   "metadata": {},
   "source": [
    "Now exclude the startups with only one investor"
   ]
  },
  {
   "cell_type": "code",
   "execution_count": null,
   "metadata": {},
   "outputs": [],
   "source": []
  },
  {
   "cell_type": "code",
   "execution_count": null,
   "metadata": {},
   "outputs": [],
   "source": []
  },
  {
   "cell_type": "code",
   "execution_count": null,
   "metadata": {},
   "outputs": [],
   "source": []
  }
 ],
 "metadata": {
  "kernelspec": {
   "display_name": "Python 3",
   "language": "python",
   "name": "python3"
  },
  "language_info": {
   "codemirror_mode": {
    "name": "ipython",
    "version": 3
   },
   "file_extension": ".py",
   "mimetype": "text/x-python",
   "name": "python",
   "nbconvert_exporter": "python",
   "pygments_lexer": "ipython3",
   "version": "3.7.0"
  }
 },
 "nbformat": 4,
 "nbformat_minor": 4
}
