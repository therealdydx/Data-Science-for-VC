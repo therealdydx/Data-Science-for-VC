{
 "cells": [
  {
   "cell_type": "markdown",
   "metadata": {},
   "source": [
    "# Network Analysis\n",
    "\n",
    "Script based off https://towardsdatascience.com/data-science-in-venture-capital-8c13ec0c8458"
   ]
  },
  {
   "cell_type": "markdown",
   "metadata": {},
   "source": [
    "### The Data\n",
    "\n",
    "- Data comes from Crunchbase\n",
    "- Focused on Singaporean funds and startups"
   ]
  },
  {
   "cell_type": "markdown",
   "metadata": {},
   "source": [
    "### Data Cleaning"
   ]
  },
  {
   "cell_type": "code",
   "execution_count": 1,
   "metadata": {},
   "outputs": [],
   "source": [
    "# First, import all of the necessary libraries\n",
    "\n",
    "import matplotlib.pyplot as plt # used for creating \n",
    "\n",
    "import networkx as nx # used for analysing the structure of networks\n",
    "\n",
    "import pandas as pd # used for data manipulation and analysis\n",
    "\n",
    "import numpy as np # used for creating n-dimensional arrays\n",
    "\n",
    "from itertools import combinations # for creating combinations (nCr)"
   ]
  },
  {
   "cell_type": "markdown",
   "metadata": {},
   "source": [
    "### Importing Data\n",
    "\n",
    "We will now read two datasets.\n",
    "\n",
    "- df_investors includes the name of all VC funds headquartered in Singapore with at least 1 investment\n",
    "- In the case of VC funds, we include the few categories:VC, CVCs, Micro VCs, Family Offices and Venture Debt\n",
    "- df_startups  includes the name of all Singaporean startups with a total funding amount higher than SGD 500k, as well as the name of their investors\n",
    "\n",
    "EDIT: OK SO IT TURNS OUT THAT CRUNCHBASE PRO TRIAL DOESN'T ALLOW DOWNLOADING AND PITCHBOOK ENTERPRISE (SCHOOL VERSION) ONLY ALLOWS 10 DOWNLOADS A DAY SO IT WOULD WASTE TOO MUCH TIME TO RANDOMLY CREATE DATASETS"
   ]
  },
  {
   "cell_type": "code",
   "execution_count": null,
   "metadata": {},
   "outputs": [],
   "source": [
    "# Investors Dataset\n",
    "\n",
    "# read the csv file of investors\n",
    "df_investors = pd.read_csv(\"Investors.csv\")\n",
    "print(len(df_investors)) # get a sense how many investors there are\n",
    "\n",
    "# Startups Dataset\n",
    "df_startups = pd.read_csv(\"Companies.csv\")\n",
    "print(len(df_startups)) # get a sense how many startups there are"
   ]
  },
  {
   "cell_type": "markdown",
   "metadata": {},
   "source": [
    "### Basic Data Exploration"
   ]
  },
  {
   "cell_type": "code",
   "execution_count": null,
   "metadata": {},
   "outputs": [],
   "source": [
    "df_investors.head()"
   ]
  },
  {
   "cell_type": "code",
   "execution_count": null,
   "metadata": {},
   "outputs": [],
   "source": [
    "df_startups.head()"
   ]
  },
  {
   "cell_type": "markdown",
   "metadata": {},
   "source": [
    "### Data Cleaning"
   ]
  },
  {
   "cell_type": "markdown",
   "metadata": {},
   "source": [
    "Because the column \"Investors\" in the df_startups dataset includes all investors that invest in the startups, i.e. a Singaporean startup may have Japanese investors, we want to filter this so that the df_startups dataset only has Singaporean VCs"
   ]
  },
  {
   "cell_type": "code",
   "execution_count": null,
   "metadata": {},
   "outputs": [],
   "source": [
    "# extract the investor column from the df_startups, and convert the series into a list\n",
    "# afterwards, the index for the new dataframe is based off the startups\n",
    "# stack by column instead of row, and then reset index to create a new index column\n",
    "\n",
    "df_startups = (pd.DataFrame(df_startups.Investors.str.split(',').tolist(),\n",
    "                           index = df_startups.Organization).stack().reset_index([0, \"Organization\"]))\n",
    "\n",
    "\n",
    "# basically now there are two columns with an index column, so afterwards just rename the columns\n",
    "df_startups.rename({0: 'Investors'}, axis = 1, inplace = True)\n",
    "df_startups['Investors'] = df_startups[\"Investors\"].str.lstrip()\n",
    "\n",
    "# merging the datasets to get the singaporean investors\n",
    "df = pd.merge(df_startups, df_investors, how = \"outer\")\n",
    "\n",
    "# drops NA values, drops location after subsetting dataframe to only singaporean investors, and resets index\n",
    "df = df[df[\"Location\"] == \"Singapore\"].dropna().drop([\"Location\"], axis = 1).reset_index(drop = True)"
   ]
  },
  {
   "cell_type": "code",
   "execution_count": null,
   "metadata": {},
   "outputs": [],
   "source": []
  },
  {
   "cell_type": "code",
   "execution_count": null,
   "metadata": {},
   "outputs": [],
   "source": []
  },
  {
   "cell_type": "code",
   "execution_count": null,
   "metadata": {},
   "outputs": [],
   "source": []
  },
  {
   "cell_type": "code",
   "execution_count": null,
   "metadata": {},
   "outputs": [],
   "source": []
  }
 ],
 "metadata": {
  "kernelspec": {
   "display_name": "Python 3",
   "language": "python",
   "name": "python3"
  },
  "language_info": {
   "codemirror_mode": {
    "name": "ipython",
    "version": 3
   },
   "file_extension": ".py",
   "mimetype": "text/x-python",
   "name": "python",
   "nbconvert_exporter": "python",
   "pygments_lexer": "ipython3",
   "version": "3.8.3"
  }
 },
 "nbformat": 4,
 "nbformat_minor": 4
}
